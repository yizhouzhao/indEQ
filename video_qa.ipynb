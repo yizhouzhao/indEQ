{
 "cells": [
  {
   "cell_type": "code",
   "execution_count": 1,
   "id": "1a92efee-2385-4952-ab0d-e6eac0b51b60",
   "metadata": {},
   "outputs": [],
   "source": [
    "import os\n",
    "import pandas as pd\n",
    "import json\n",
    "from parser.param import MEMOR_ROOT,  PARSE_IMG_BATCH_SIZE"
   ]
  },
  {
   "cell_type": "code",
   "execution_count": 2,
   "id": "ae8ba6dd-4181-4bce-af7d-c7b6375a1c56",
   "metadata": {},
   "outputs": [],
   "source": [
    "PARSED_DATA_ROOT = './parsed_data/'\n",
    "VIDEOQUESTION_CSV_PATH = './parser/videoQ.csv'"
   ]
  },
  {
   "cell_type": "code",
   "execution_count": 3,
   "id": "c6691f5a-a7ef-44e0-9326-7fc867466c7e",
   "metadata": {},
   "outputs": [],
   "source": [
    "# read question\n",
    "video_q = pd.read_csv(VIDEOQUESTION_CSV_PATH)\n",
    "all_questions = list(video_q[\"Question\"])\n",
    "all_question_num = len(all_questions)\n",
    "all_ids = list(video_q[\"Id\"])"
   ]
  },
  {
   "cell_type": "code",
   "execution_count": 4,
   "id": "cd287933-8565-4227-b294-a8f5eb1fab44",
   "metadata": {},
   "outputs": [],
   "source": [
    "from parser.mmf_pythia import MMFPythiaParser\n",
    "from mmf.utils.env import setup_imports\n",
    "setup_imports()"
   ]
  },
  {
   "cell_type": "code",
   "execution_count": 5,
   "id": "cb1b8e90-48a9-4cf8-82fa-7c8f8e08c8cf",
   "metadata": {},
   "outputs": [
    {
     "name": "stderr",
     "output_type": "stream",
     "text": [
      "/home/yizhou/anaconda3/envs/mm/lib/python3.7/site-packages/omegaconf/grammar_visitor.py:257: UserWarning: In the sequence `MMF_USER_DIR,` some elements are missing: please replace them with empty quoted strings. See https://github.com/omry/omegaconf/issues/572 for details.\n",
      "  category=UserWarning,\n",
      "/home/yizhou/anaconda3/envs/mm/lib/python3.7/site-packages/omegaconf/resolvers/__init__.py:13: UserWarning: The `env` resolver is deprecated, see https://github.com/omry/omegaconf/issues/573\n",
      "  \"The `env` resolver is deprecated, see https://github.com/omry/omegaconf/issues/573\"\n",
      "/home/yizhou/anaconda3/envs/mm/lib/python3.7/site-packages/omegaconf/grammar_visitor.py:257: UserWarning: In the sequence `MMF_LOG_DIR,` some elements are missing: please replace them with empty quoted strings. See https://github.com/omry/omegaconf/issues/572 for details.\n",
      "  category=UserWarning,\n",
      "/home/yizhou/anaconda3/envs/mm/lib/python3.7/site-packages/omegaconf/grammar_visitor.py:257: UserWarning: In the sequence `MMF_REPORT_DIR,` some elements are missing: please replace them with empty quoted strings. See https://github.com/omry/omegaconf/issues/572 for details.\n",
      "  category=UserWarning,\n",
      "/home/yizhou/anaconda3/envs/mm/lib/python3.7/site-packages/omegaconf/grammar_visitor.py:257: UserWarning: In the sequence `MMF_TENSORBOARD_LOGDIR,` some elements are missing: please replace them with empty quoted strings. See https://github.com/omry/omegaconf/issues/572 for details.\n",
      "  category=UserWarning,\n",
      "/home/yizhou/anaconda3/envs/mm/lib/python3.7/site-packages/omegaconf/grammar_visitor.py:257: UserWarning: In the sequence `MMF_WANDB_LOGDIR,` some elements are missing: please replace them with empty quoted strings. See https://github.com/omry/omegaconf/issues/572 for details.\n",
      "  category=UserWarning,\n"
     ]
    }
   ],
   "source": [
    "pythia_parser = MMFPythiaParser()"
   ]
  },
  {
   "cell_type": "code",
   "execution_count": 6,
   "id": "e50f4045-1ef8-47ae-a63e-d61bf7d1112d",
   "metadata": {},
   "outputs": [],
   "source": [
    " # save path\n",
    "video_answer_folder = os.path.join(PARSED_DATA_ROOT,\"memor_video_answers\")\n",
    "if not os.path.exists(video_answer_folder):\n",
    "    os.mkdir(video_answer_folder)"
   ]
  },
  {
   "cell_type": "code",
   "execution_count": 7,
   "id": "26159198-e53d-47f9-b1a6-2f3ef94b04c6",
   "metadata": {},
   "outputs": [],
   "source": [
    "from tqdm.auto import tqdm"
   ]
  },
  {
   "cell_type": "code",
   "execution_count": 8,
   "id": "836931eb-62f2-4fb9-9513-0b2f3f72b1fe",
   "metadata": {},
   "outputs": [
    {
     "data": {
      "application/vnd.jupyter.widget-view+json": {
       "model_id": "ccd901890f2d4ba9a1c26c3b15e9e11d",
       "version_major": 2,
       "version_minor": 0
      },
      "text/plain": [
       "HBox(children=(FloatProgress(value=0.0, max=5502.0), HTML(value='')))"
      ]
     },
     "metadata": {},
     "output_type": "display_data"
    },
    {
     "name": "stderr",
     "output_type": "stream",
     "text": [
      "/home/yizhou/anaconda3/envs/mm/lib/python3.7/site-packages/torch/functional.py:445: UserWarning: torch.meshgrid: in an upcoming release, it will be required to pass the indexing argument. (Triggered internally at  /opt/conda/conda-bld/pytorch_1640811797118/work/aten/src/ATen/native/TensorShape.cpp:2157.)\n",
      "  return _VF.meshgrid(tensors, **kwargs)  # type: ignore[attr-defined]\n"
     ]
    },
    {
     "name": "stdout",
     "output_type": "stream",
     "text": [
      "\n"
     ]
    }
   ],
   "source": [
    "# load video \n",
    "picked_video_folder = os.path.join(PARSED_DATA_ROOT,\"memor_video_images\")\n",
    "for clip_name in tqdm(sorted(os.listdir(picked_video_folder))):\n",
    "    # create saving folder\n",
    "    save_clip_folder = os.path.join(video_answer_folder, clip_name)\n",
    "    if not os.path.exists(save_clip_folder):\n",
    "        os.mkdir(save_clip_folder)\n",
    "\n",
    "    img_folder = os.path.join(picked_video_folder, clip_name)\n",
    "    for img_name in os.listdir(img_folder):\n",
    "        if \".ipynb_checkpoints\" in img_name:\n",
    "            continue\n",
    "        qa_info = {\n",
    "            \"img_name\":img_name,\n",
    "            \"question_answer\": [],\n",
    "        }\n",
    "        img_path = os.path.join(img_folder, img_name)\n",
    "\n",
    "        all_answers = []\n",
    "        for i in range(0, all_question_num, PARSE_IMG_BATCH_SIZE):\n",
    "            questions = all_questions[i:min(i + PARSE_IMG_BATCH_SIZE, all_question_num)]\n",
    "            answers = pythia_parser.predict_multi(img_path, questions)\n",
    "\n",
    "            for j in range(len(questions)):\n",
    "                qa_info[\"question_answer\"].append([all_ids[i+j],questions[j], answers[j]])\n",
    "\n",
    "        img_idx = img_name.split(\".\")[0]\n",
    "        json_save_path = os.path.join(save_clip_folder, img_idx + \".json\")\n",
    "        # Directly from dictionary\n",
    "        with open(json_save_path, 'w') as outfile:\n",
    "            json.dump(qa_info, outfile)\n",
    "\n",
    "    #     break\n",
    "    # break"
   ]
  },
  {
   "cell_type": "code",
   "execution_count": null,
   "id": "c21b6e93-3e57-4c25-8afe-21ac7ed824f3",
   "metadata": {},
   "outputs": [],
   "source": []
  },
  {
   "cell_type": "code",
   "execution_count": null,
   "id": "9d4160ee-a2e8-4da1-855d-ffc663797a9b",
   "metadata": {},
   "outputs": [],
   "source": []
  },
  {
   "cell_type": "code",
   "execution_count": null,
   "id": "b5ce0d0a-39d3-4975-a772-ee812777013b",
   "metadata": {},
   "outputs": [],
   "source": []
  },
  {
   "cell_type": "code",
   "execution_count": null,
   "id": "8f33dac3-0d1e-4559-948e-83f1ffd1ea8d",
   "metadata": {},
   "outputs": [],
   "source": [
    "pause"
   ]
  },
  {
   "cell_type": "code",
   "execution_count": null,
   "id": "92870edc-c8f7-4e6e-8a60-2cc66f82f9cc",
   "metadata": {},
   "outputs": [],
   "source": [
    "import pandas as pd"
   ]
  },
  {
   "cell_type": "code",
   "execution_count": null,
   "id": "0ddda66b-61c5-4b77-9bff-1eac3e50c51d",
   "metadata": {},
   "outputs": [],
   "source": [
    "VIDEOQUESTION_CSV_PATH = \"./parser/videoQ.csv\""
   ]
  },
  {
   "cell_type": "code",
   "execution_count": null,
   "id": "95ceaba9-95a5-4dd2-8f06-168533194628",
   "metadata": {},
   "outputs": [],
   "source": [
    "video_q = pd.read_csv(VIDEOQUESTION_CSV_PATH)"
   ]
  },
  {
   "cell_type": "code",
   "execution_count": null,
   "id": "ae731e21-1459-4dc0-88cf-a51fa9965bed",
   "metadata": {},
   "outputs": [],
   "source": [
    "list(video_q[\"Question\"])"
   ]
  },
  {
   "cell_type": "code",
   "execution_count": null,
   "id": "03e7456c-c391-494a-8966-412e25c19a2d",
   "metadata": {},
   "outputs": [],
   "source": [
    "video_q"
   ]
  },
  {
   "cell_type": "code",
   "execution_count": null,
   "id": "3c5c2f7a-544e-4f61-9fb8-aafb64528bb4",
   "metadata": {},
   "outputs": [],
   "source": [
    "from parser.mmf_pythia import MMFPythiaParser\n",
    "from mmf.utils.env import setup_imports\n",
    "setup_imports()"
   ]
  },
  {
   "cell_type": "code",
   "execution_count": null,
   "id": "84ae1ffa-d271-4adc-91c7-aa33a4a627fa",
   "metadata": {},
   "outputs": [],
   "source": [
    "pythia_parser = MMFPythiaParser()"
   ]
  },
  {
   "cell_type": "code",
   "execution_count": null,
   "id": "4dcbf13d-74a8-4902-9625-59bd2f89f1de",
   "metadata": {},
   "outputs": [],
   "source": [
    "img_url = \"./temp.jpg\"\n",
    "question = \"How is the environment feeling?\""
   ]
  },
  {
   "cell_type": "code",
   "execution_count": null,
   "id": "5c8514d5-3dd0-49b6-929f-f1c1c273a4d3",
   "metadata": {},
   "outputs": [],
   "source": [
    "PARSE_IMG_BATCH_SIZE = 16"
   ]
  },
  {
   "cell_type": "code",
   "execution_count": null,
   "id": "475368dd-08f3-407d-a4e5-189bd429c879",
   "metadata": {},
   "outputs": [],
   "source": [
    "questions = list(video_q[\"Question\"])[:PARSE_IMG_BATCH_SIZE]"
   ]
  },
  {
   "cell_type": "code",
   "execution_count": null,
   "id": "881a9407-b68d-45ce-af82-cf8a1e4a779f",
   "metadata": {},
   "outputs": [],
   "source": [
    "questions"
   ]
  },
  {
   "cell_type": "code",
   "execution_count": null,
   "id": "b7045b2b-fe69-4b06-9df7-7ae4252af154",
   "metadata": {},
   "outputs": [],
   "source": [
    "#scores, predictions = demo.predict(img_url, question)"
   ]
  },
  {
   "cell_type": "code",
   "execution_count": null,
   "id": "9b66dc8c-35c9-42aa-939b-11cc46ce95ff",
   "metadata": {},
   "outputs": [],
   "source": [
    "pythia_parser.predict_multi(img_url, questions)"
   ]
  },
  {
   "cell_type": "code",
   "execution_count": null,
   "id": "92cc136e-162d-4631-98b9-6b34c0dcaf75",
   "metadata": {},
   "outputs": [],
   "source": [
    "questions"
   ]
  },
  {
   "cell_type": "code",
   "execution_count": null,
   "id": "254c204d-d85c-47aa-9330-9bd0883f0b3d",
   "metadata": {},
   "outputs": [],
   "source": [
    "import pan"
   ]
  }
 ],
 "metadata": {
  "kernelspec": {
   "display_name": "mm",
   "language": "python",
   "name": "mm"
  },
  "language_info": {
   "codemirror_mode": {
    "name": "ipython",
    "version": 3
   },
   "file_extension": ".py",
   "mimetype": "text/x-python",
   "name": "python",
   "nbconvert_exporter": "python",
   "pygments_lexer": "ipython3",
   "version": "3.7.11"
  }
 },
 "nbformat": 4,
 "nbformat_minor": 5
}
