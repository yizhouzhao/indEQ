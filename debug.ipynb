{
 "cells": [
  {
   "cell_type": "code",
   "execution_count": 1,
   "id": "3c5c2f7a-544e-4f61-9fb8-aafb64528bb4",
   "metadata": {},
   "outputs": [],
   "source": [
    "from parser.demo import MMFPythiaParser\n",
    "from mmf.utils.env import setup_imports\n",
    "setup_imports()"
   ]
  },
  {
   "cell_type": "code",
   "execution_count": 2,
   "id": "84ae1ffa-d271-4adc-91c7-aa33a4a627fa",
   "metadata": {},
   "outputs": [
    {
     "name": "stderr",
     "output_type": "stream",
     "text": [
      "/home/yizhou/anaconda3/envs/mm/lib/python3.7/site-packages/omegaconf/grammar_visitor.py:257: UserWarning: In the sequence `MMF_USER_DIR,` some elements are missing: please replace them with empty quoted strings. See https://github.com/omry/omegaconf/issues/572 for details.\n",
      "  category=UserWarning,\n",
      "/home/yizhou/anaconda3/envs/mm/lib/python3.7/site-packages/omegaconf/resolvers/__init__.py:13: UserWarning: The `env` resolver is deprecated, see https://github.com/omry/omegaconf/issues/573\n",
      "  \"The `env` resolver is deprecated, see https://github.com/omry/omegaconf/issues/573\"\n",
      "/home/yizhou/anaconda3/envs/mm/lib/python3.7/site-packages/omegaconf/grammar_visitor.py:257: UserWarning: In the sequence `MMF_LOG_DIR,` some elements are missing: please replace them with empty quoted strings. See https://github.com/omry/omegaconf/issues/572 for details.\n",
      "  category=UserWarning,\n",
      "/home/yizhou/anaconda3/envs/mm/lib/python3.7/site-packages/omegaconf/grammar_visitor.py:257: UserWarning: In the sequence `MMF_REPORT_DIR,` some elements are missing: please replace them with empty quoted strings. See https://github.com/omry/omegaconf/issues/572 for details.\n",
      "  category=UserWarning,\n",
      "/home/yizhou/anaconda3/envs/mm/lib/python3.7/site-packages/omegaconf/grammar_visitor.py:257: UserWarning: In the sequence `MMF_TENSORBOARD_LOGDIR,` some elements are missing: please replace them with empty quoted strings. See https://github.com/omry/omegaconf/issues/572 for details.\n",
      "  category=UserWarning,\n",
      "/home/yizhou/anaconda3/envs/mm/lib/python3.7/site-packages/omegaconf/grammar_visitor.py:257: UserWarning: In the sequence `MMF_WANDB_LOGDIR,` some elements are missing: please replace them with empty quoted strings. See https://github.com/omry/omegaconf/issues/572 for details.\n",
      "  category=UserWarning,\n"
     ]
    }
   ],
   "source": [
    "demo = MMFPythiaParser()"
   ]
  },
  {
   "cell_type": "code",
   "execution_count": 3,
   "id": "4dcbf13d-74a8-4902-9625-59bd2f89f1de",
   "metadata": {},
   "outputs": [],
   "source": [
    "img_url = \"./temp.jpg\"\n",
    "question = \"How is the environment feeling?\""
   ]
  },
  {
   "cell_type": "code",
   "execution_count": 4,
   "id": "5c8514d5-3dd0-49b6-929f-f1c1c273a4d3",
   "metadata": {},
   "outputs": [],
   "source": [
    "from parser.param import QUESTIONS"
   ]
  },
  {
   "cell_type": "code",
   "execution_count": 7,
   "id": "b7045b2b-fe69-4b06-9df7-7ae4252af154",
   "metadata": {},
   "outputs": [
    {
     "name": "stderr",
     "output_type": "stream",
     "text": [
      "/home/yizhou/anaconda3/envs/mm/lib/python3.7/site-packages/torch/functional.py:445: UserWarning: torch.meshgrid: in an upcoming release, it will be required to pass the indexing argument. (Triggered internally at  /opt/conda/conda-bld/pytorch_1640811797118/work/aten/src/ATen/native/TensorShape.cpp:2157.)\n",
      "  return _VF.meshgrid(tensors, **kwargs)  # type: ignore[attr-defined]\n"
     ]
    }
   ],
   "source": [
    "scores, predictions = demo.predict(img_url, question)"
   ]
  },
  {
   "cell_type": "code",
   "execution_count": 8,
   "id": "82fd5317-cc77-44db-ae1f-0a835d0c97de",
   "metadata": {},
   "outputs": [
    {
     "data": {
      "text/plain": [
       "([0.3005145788192749,\n",
       "  0.07854263484477997,\n",
       "  0.030952943488955498,\n",
       "  0.02277892827987671,\n",
       "  0.016722818836569786],\n",
       " ['no', 'yes', 'not sure', 'wii', 'book'])"
      ]
     },
     "execution_count": 8,
     "metadata": {},
     "output_type": "execute_result"
    }
   ],
   "source": [
    "scores, predictions"
   ]
  },
  {
   "cell_type": "code",
   "execution_count": 5,
   "id": "9b66dc8c-35c9-42aa-939b-11cc46ce95ff",
   "metadata": {},
   "outputs": [
    {
     "name": "stderr",
     "output_type": "stream",
     "text": [
      "/home/yizhou/anaconda3/envs/mm/lib/python3.7/site-packages/torch/functional.py:445: UserWarning: torch.meshgrid: in an upcoming release, it will be required to pass the indexing argument. (Triggered internally at  /opt/conda/conda-bld/pytorch_1640811797118/work/aten/src/ATen/native/TensorShape.cpp:2157.)\n",
      "  return _VF.meshgrid(tensors, **kwargs)  # type: ignore[attr-defined]\n"
     ]
    },
    {
     "data": {
      "text/plain": [
       "[['smile', 'ghost', 'person', 'surprise', 'mouse'],\n",
       " ['2', '3', '0', 'yes', '1'],\n",
       " ['happy', 'confused', 'sad', 'tired', 'bored'],\n",
       " ['dark', 'warm', 'clear', 'calm', 'cool']]"
      ]
     },
     "execution_count": 5,
     "metadata": {},
     "output_type": "execute_result"
    }
   ],
   "source": [
    "demo.predict_multi(img_url, QUESTIONS)"
   ]
  },
  {
   "cell_type": "code",
   "execution_count": 6,
   "id": "92cc136e-162d-4631-98b9-6b34c0dcaf75",
   "metadata": {},
   "outputs": [
    {
     "data": {
      "text/plain": [
       "['What does person on the right look like?',\n",
       " 'How many people?',\n",
       " 'How does the person on the right feel?',\n",
       " 'How is the environment feeling?']"
      ]
     },
     "execution_count": 6,
     "metadata": {},
     "output_type": "execute_result"
    }
   ],
   "source": [
    "QUESTIONS"
   ]
  },
  {
   "cell_type": "code",
   "execution_count": null,
   "id": "254c204d-d85c-47aa-9330-9bd0883f0b3d",
   "metadata": {},
   "outputs": [],
   "source": []
  }
 ],
 "metadata": {
  "kernelspec": {
   "display_name": "mm",
   "language": "python",
   "name": "mm"
  },
  "language_info": {
   "codemirror_mode": {
    "name": "ipython",
    "version": 3
   },
   "file_extension": ".py",
   "mimetype": "text/x-python",
   "name": "python",
   "nbconvert_exporter": "python",
   "pygments_lexer": "ipython3",
   "version": "3.7.11"
  }
 },
 "nbformat": 4,
 "nbformat_minor": 5
}
