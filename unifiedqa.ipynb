{
 "cells": [
  {
   "cell_type": "code",
   "execution_count": 1,
   "id": "688e5249-490b-47d4-8a45-64e7bdcb276e",
   "metadata": {},
   "outputs": [],
   "source": [
    "import os\n",
    "import pandas as pd\n",
    "import json\n",
    "from param import MEMOR_ROOT, PARSE_TEXT_BATCH_SIZE, TEXTQUESTION_CSV_PATH, PARSED_DATA_ROOT"
   ]
  },
  {
   "cell_type": "code",
   "execution_count": 2,
   "id": "a2cebe85-a18a-4b5c-bd25-103062069212",
   "metadata": {},
   "outputs": [
    {
     "name": "stderr",
     "output_type": "stream",
     "text": [
      "/home/yizhou/anaconda3/envs/mm/lib/python3.7/site-packages/fuzzywuzzy/fuzz.py:11: UserWarning: Using slow pure-python SequenceMatcher. Install python-Levenshtein to remove this warning\n",
      "  warnings.warn('Using slow pure-python SequenceMatcher. Install python-Levenshtein to remove this warning')\n"
     ]
    }
   ],
   "source": [
    "from parser.unifiedqa import QuestionCollection, QAMachine"
   ]
  },
  {
   "cell_type": "code",
   "execution_count": 8,
   "id": "b97d6ab7-dd1b-4580-bc4a-ed749ae95c34",
   "metadata": {},
   "outputs": [],
   "source": [
    "token_model_name = \"allenai/unifiedqa-t5-large\" # you can specify the model size here\n",
    "model_name = \"allenai/unifiedqa-t5-large\""
   ]
  },
  {
   "cell_type": "code",
   "execution_count": 9,
   "id": "336e9bd4-e76a-41ea-bd67-9a23658dcbdf",
   "metadata": {},
   "outputs": [
    {
     "name": "stdout",
     "output_type": "stream",
     "text": [
      "load model......\n"
     ]
    },
    {
     "data": {
      "application/vnd.jupyter.widget-view+json": {
       "model_id": "82364b1de98f4216a6eeae8490346a25",
       "version_major": 2,
       "version_minor": 0
      },
      "text/plain": [
       "HBox(children=(FloatProgress(value=0.0, description='Downloading', max=2145.0, style=ProgressStyle(description…"
      ]
     },
     "metadata": {},
     "output_type": "display_data"
    },
    {
     "name": "stdout",
     "output_type": "stream",
     "text": [
      "\n"
     ]
    },
    {
     "data": {
      "application/vnd.jupyter.widget-view+json": {
       "model_id": "c26716629a37432182fadce84916c18d",
       "version_major": 2,
       "version_minor": 0
      },
      "text/plain": [
       "HBox(children=(FloatProgress(value=0.0, description='Downloading', max=791656.0, style=ProgressStyle(descripti…"
      ]
     },
     "metadata": {},
     "output_type": "display_data"
    },
    {
     "name": "stdout",
     "output_type": "stream",
     "text": [
      "\n"
     ]
    },
    {
     "data": {
      "application/vnd.jupyter.widget-view+json": {
       "model_id": "d7ce56d5dacf4a0984dea5bc208a2cc9",
       "version_major": 2,
       "version_minor": 0
      },
      "text/plain": [
       "HBox(children=(FloatProgress(value=0.0, description='Downloading', max=1786.0, style=ProgressStyle(description…"
      ]
     },
     "metadata": {},
     "output_type": "display_data"
    },
    {
     "name": "stdout",
     "output_type": "stream",
     "text": [
      "\n"
     ]
    },
    {
     "ename": "Exception",
     "evalue": "No such file or directory (os error 2)",
     "output_type": "error",
     "traceback": [
      "\u001b[0;31m---------------------------------------------------------------------------\u001b[0m",
      "\u001b[0;31mException\u001b[0m                                 Traceback (most recent call last)",
      "\u001b[0;32m/tmp/ipykernel_36525/1572026503.py\u001b[0m in \u001b[0;36m<module>\u001b[0;34m\u001b[0m\n\u001b[0;32m----> 1\u001b[0;31m \u001b[0mqm\u001b[0m \u001b[0;34m=\u001b[0m \u001b[0mQAMachine\u001b[0m\u001b[0;34m(\u001b[0m\u001b[0mTEXTQUESTION_CSV_PATH\u001b[0m\u001b[0;34m,\u001b[0m \u001b[0mtoken_model_name\u001b[0m\u001b[0;34m,\u001b[0m \u001b[0mmodel_name\u001b[0m\u001b[0;34m)\u001b[0m\u001b[0;34m\u001b[0m\u001b[0;34m\u001b[0m\u001b[0m\n\u001b[0m",
      "\u001b[0;32m~/Research/indEQ/parser/unifiedqa.py\u001b[0m in \u001b[0;36m__init__\u001b[0;34m(self, question_collection_file, token_model_name, model_name)\u001b[0m\n\u001b[1;32m     69\u001b[0m         \u001b[0mself\u001b[0m\u001b[0;34m.\u001b[0m\u001b[0mmodel\u001b[0m \u001b[0;34m=\u001b[0m \u001b[0;32mNone\u001b[0m\u001b[0;34m\u001b[0m\u001b[0;34m\u001b[0m\u001b[0m\n\u001b[1;32m     70\u001b[0m         \u001b[0mself\u001b[0m\u001b[0;34m.\u001b[0m\u001b[0mtokenizer\u001b[0m \u001b[0;34m=\u001b[0m \u001b[0;32mNone\u001b[0m\u001b[0;34m\u001b[0m\u001b[0;34m\u001b[0m\u001b[0m\n\u001b[0;32m---> 71\u001b[0;31m         \u001b[0mself\u001b[0m\u001b[0;34m.\u001b[0m\u001b[0mload_model\u001b[0m\u001b[0;34m(\u001b[0m\u001b[0;34m)\u001b[0m\u001b[0;34m\u001b[0m\u001b[0;34m\u001b[0m\u001b[0m\n\u001b[0m\u001b[1;32m     72\u001b[0m \u001b[0;34m\u001b[0m\u001b[0m\n\u001b[1;32m     73\u001b[0m     \u001b[0;32mdef\u001b[0m \u001b[0mload_model\u001b[0m\u001b[0;34m(\u001b[0m\u001b[0mself\u001b[0m\u001b[0;34m)\u001b[0m\u001b[0;34m:\u001b[0m\u001b[0;34m\u001b[0m\u001b[0;34m\u001b[0m\u001b[0m\n",
      "\u001b[0;32m~/Research/indEQ/parser/unifiedqa.py\u001b[0m in \u001b[0;36mload_model\u001b[0;34m(self)\u001b[0m\n\u001b[1;32m     73\u001b[0m     \u001b[0;32mdef\u001b[0m \u001b[0mload_model\u001b[0m\u001b[0;34m(\u001b[0m\u001b[0mself\u001b[0m\u001b[0;34m)\u001b[0m\u001b[0;34m:\u001b[0m\u001b[0;34m\u001b[0m\u001b[0;34m\u001b[0m\u001b[0m\n\u001b[1;32m     74\u001b[0m         \u001b[0mprint\u001b[0m\u001b[0;34m(\u001b[0m\u001b[0;34m\"load model......\"\u001b[0m\u001b[0;34m)\u001b[0m\u001b[0;34m\u001b[0m\u001b[0;34m\u001b[0m\u001b[0m\n\u001b[0;32m---> 75\u001b[0;31m         \u001b[0mself\u001b[0m\u001b[0;34m.\u001b[0m\u001b[0mtokenizer\u001b[0m \u001b[0;34m=\u001b[0m \u001b[0mAutoTokenizer\u001b[0m\u001b[0;34m.\u001b[0m\u001b[0mfrom_pretrained\u001b[0m\u001b[0;34m(\u001b[0m\u001b[0mself\u001b[0m\u001b[0;34m.\u001b[0m\u001b[0mtoken_model_name\u001b[0m\u001b[0;34m)\u001b[0m\u001b[0;34m\u001b[0m\u001b[0;34m\u001b[0m\u001b[0m\n\u001b[0m\u001b[1;32m     76\u001b[0m         \u001b[0mself\u001b[0m\u001b[0;34m.\u001b[0m\u001b[0mmodel\u001b[0m \u001b[0;34m=\u001b[0m \u001b[0mT5ForConditionalGeneration\u001b[0m\u001b[0;34m.\u001b[0m\u001b[0mfrom_pretrained\u001b[0m\u001b[0;34m(\u001b[0m\u001b[0mself\u001b[0m\u001b[0;34m.\u001b[0m\u001b[0mmodel_name\u001b[0m\u001b[0;34m)\u001b[0m\u001b[0;34m\u001b[0m\u001b[0;34m\u001b[0m\u001b[0m\n\u001b[1;32m     77\u001b[0m         \u001b[0;32mif\u001b[0m \u001b[0mself\u001b[0m\u001b[0;34m.\u001b[0m\u001b[0muse_cuda\u001b[0m\u001b[0;34m:\u001b[0m\u001b[0;34m\u001b[0m\u001b[0;34m\u001b[0m\u001b[0m\n",
      "\u001b[0;32m~/anaconda3/envs/mm/lib/python3.7/site-packages/transformers/models/auto/tokenization_auto.py\u001b[0m in \u001b[0;36mfrom_pretrained\u001b[0;34m(cls, pretrained_model_name_or_path, *inputs, **kwargs)\u001b[0m\n\u001b[1;32m    449\u001b[0m                     \u001b[0;34mf\"Tokenizer class {tokenizer_class_candidate} does not exist or is not currently imported.\"\u001b[0m\u001b[0;34m\u001b[0m\u001b[0;34m\u001b[0m\u001b[0m\n\u001b[1;32m    450\u001b[0m                 )\n\u001b[0;32m--> 451\u001b[0;31m             \u001b[0;32mreturn\u001b[0m \u001b[0mtokenizer_class\u001b[0m\u001b[0;34m.\u001b[0m\u001b[0mfrom_pretrained\u001b[0m\u001b[0;34m(\u001b[0m\u001b[0mpretrained_model_name_or_path\u001b[0m\u001b[0;34m,\u001b[0m \u001b[0;34m*\u001b[0m\u001b[0minputs\u001b[0m\u001b[0;34m,\u001b[0m \u001b[0;34m**\u001b[0m\u001b[0mkwargs\u001b[0m\u001b[0;34m)\u001b[0m\u001b[0;34m\u001b[0m\u001b[0;34m\u001b[0m\u001b[0m\n\u001b[0m\u001b[1;32m    452\u001b[0m \u001b[0;34m\u001b[0m\u001b[0m\n\u001b[1;32m    453\u001b[0m         \u001b[0;31m# Otherwise we have to be creative.\u001b[0m\u001b[0;34m\u001b[0m\u001b[0;34m\u001b[0m\u001b[0;34m\u001b[0m\u001b[0m\n",
      "\u001b[0;32m~/anaconda3/envs/mm/lib/python3.7/site-packages/transformers/tokenization_utils_base.py\u001b[0m in \u001b[0;36mfrom_pretrained\u001b[0;34m(cls, pretrained_model_name_or_path, *init_inputs, **kwargs)\u001b[0m\n\u001b[1;32m   1740\u001b[0m \u001b[0;34m\u001b[0m\u001b[0m\n\u001b[1;32m   1741\u001b[0m         return cls._from_pretrained(\n\u001b[0;32m-> 1742\u001b[0;31m             \u001b[0mresolved_vocab_files\u001b[0m\u001b[0;34m,\u001b[0m \u001b[0mpretrained_model_name_or_path\u001b[0m\u001b[0;34m,\u001b[0m \u001b[0minit_configuration\u001b[0m\u001b[0;34m,\u001b[0m \u001b[0;34m*\u001b[0m\u001b[0minit_inputs\u001b[0m\u001b[0;34m,\u001b[0m \u001b[0;34m**\u001b[0m\u001b[0mkwargs\u001b[0m\u001b[0;34m\u001b[0m\u001b[0;34m\u001b[0m\u001b[0m\n\u001b[0m\u001b[1;32m   1743\u001b[0m         )\n\u001b[1;32m   1744\u001b[0m \u001b[0;34m\u001b[0m\u001b[0m\n",
      "\u001b[0;32m~/anaconda3/envs/mm/lib/python3.7/site-packages/transformers/tokenization_utils_base.py\u001b[0m in \u001b[0;36m_from_pretrained\u001b[0;34m(cls, resolved_vocab_files, pretrained_model_name_or_path, init_configuration, *init_inputs, **kwargs)\u001b[0m\n\u001b[1;32m   1856\u001b[0m         \u001b[0;31m# Instantiate tokenizer.\u001b[0m\u001b[0;34m\u001b[0m\u001b[0;34m\u001b[0m\u001b[0;34m\u001b[0m\u001b[0m\n\u001b[1;32m   1857\u001b[0m         \u001b[0;32mtry\u001b[0m\u001b[0;34m:\u001b[0m\u001b[0;34m\u001b[0m\u001b[0;34m\u001b[0m\u001b[0m\n\u001b[0;32m-> 1858\u001b[0;31m             \u001b[0mtokenizer\u001b[0m \u001b[0;34m=\u001b[0m \u001b[0mcls\u001b[0m\u001b[0;34m(\u001b[0m\u001b[0;34m*\u001b[0m\u001b[0minit_inputs\u001b[0m\u001b[0;34m,\u001b[0m \u001b[0;34m**\u001b[0m\u001b[0minit_kwargs\u001b[0m\u001b[0;34m)\u001b[0m\u001b[0;34m\u001b[0m\u001b[0;34m\u001b[0m\u001b[0m\n\u001b[0m\u001b[1;32m   1859\u001b[0m         \u001b[0;32mexcept\u001b[0m \u001b[0mOSError\u001b[0m\u001b[0;34m:\u001b[0m\u001b[0;34m\u001b[0m\u001b[0;34m\u001b[0m\u001b[0m\n\u001b[1;32m   1860\u001b[0m             raise OSError(\n",
      "\u001b[0;32m~/anaconda3/envs/mm/lib/python3.7/site-packages/transformers/models/t5/tokenization_t5_fast.py\u001b[0m in \u001b[0;36m__init__\u001b[0;34m(self, vocab_file, tokenizer_file, eos_token, unk_token, pad_token, extra_ids, additional_special_tokens, **kwargs)\u001b[0m\n\u001b[1;32m    134\u001b[0m             \u001b[0mextra_ids\u001b[0m\u001b[0;34m=\u001b[0m\u001b[0mextra_ids\u001b[0m\u001b[0;34m,\u001b[0m\u001b[0;34m\u001b[0m\u001b[0;34m\u001b[0m\u001b[0m\n\u001b[1;32m    135\u001b[0m             \u001b[0madditional_special_tokens\u001b[0m\u001b[0;34m=\u001b[0m\u001b[0madditional_special_tokens\u001b[0m\u001b[0;34m,\u001b[0m\u001b[0;34m\u001b[0m\u001b[0;34m\u001b[0m\u001b[0m\n\u001b[0;32m--> 136\u001b[0;31m             \u001b[0;34m**\u001b[0m\u001b[0mkwargs\u001b[0m\u001b[0;34m,\u001b[0m\u001b[0;34m\u001b[0m\u001b[0;34m\u001b[0m\u001b[0m\n\u001b[0m\u001b[1;32m    137\u001b[0m         )\n\u001b[1;32m    138\u001b[0m \u001b[0;34m\u001b[0m\u001b[0m\n",
      "\u001b[0;32m~/anaconda3/envs/mm/lib/python3.7/site-packages/transformers/tokenization_utils_fast.py\u001b[0m in \u001b[0;36m__init__\u001b[0;34m(self, *args, **kwargs)\u001b[0m\n\u001b[1;32m    105\u001b[0m         \u001b[0;32melif\u001b[0m \u001b[0mfast_tokenizer_file\u001b[0m \u001b[0;32mis\u001b[0m \u001b[0;32mnot\u001b[0m \u001b[0;32mNone\u001b[0m \u001b[0;32mand\u001b[0m \u001b[0;32mnot\u001b[0m \u001b[0mfrom_slow\u001b[0m\u001b[0;34m:\u001b[0m\u001b[0;34m\u001b[0m\u001b[0;34m\u001b[0m\u001b[0m\n\u001b[1;32m    106\u001b[0m             \u001b[0;31m# We have a serialization from tokenizers which let us directly build the backend\u001b[0m\u001b[0;34m\u001b[0m\u001b[0;34m\u001b[0m\u001b[0;34m\u001b[0m\u001b[0m\n\u001b[0;32m--> 107\u001b[0;31m             \u001b[0mfast_tokenizer\u001b[0m \u001b[0;34m=\u001b[0m \u001b[0mTokenizerFast\u001b[0m\u001b[0;34m.\u001b[0m\u001b[0mfrom_file\u001b[0m\u001b[0;34m(\u001b[0m\u001b[0mfast_tokenizer_file\u001b[0m\u001b[0;34m)\u001b[0m\u001b[0;34m\u001b[0m\u001b[0;34m\u001b[0m\u001b[0m\n\u001b[0m\u001b[1;32m    108\u001b[0m         \u001b[0;32melif\u001b[0m \u001b[0mslow_tokenizer\u001b[0m \u001b[0;32mis\u001b[0m \u001b[0;32mnot\u001b[0m \u001b[0;32mNone\u001b[0m\u001b[0;34m:\u001b[0m\u001b[0;34m\u001b[0m\u001b[0;34m\u001b[0m\u001b[0m\n\u001b[1;32m    109\u001b[0m             \u001b[0;31m# We need to convert a slow tokenizer to build the backend\u001b[0m\u001b[0;34m\u001b[0m\u001b[0;34m\u001b[0m\u001b[0;34m\u001b[0m\u001b[0m\n",
      "\u001b[0;31mException\u001b[0m: No such file or directory (os error 2)"
     ]
    }
   ],
   "source": [
    "qm = QAMachine(TEXTQUESTION_CSV_PATH, token_model_name, model_name)"
   ]
  },
  {
   "cell_type": "code",
   "execution_count": 5,
   "id": "16685e68-a274-42c3-a063-4a799448bda8",
   "metadata": {},
   "outputs": [],
   "source": [
    " # save path\n",
    "text_answer_folder = os.path.join(PARSED_DATA_ROOT,\"memor_text_answers\")\n",
    "if not os.path.exists(text_answer_folder):\n",
    "    os.mkdir(text_answer_folder)"
   ]
  },
  {
   "cell_type": "code",
   "execution_count": 6,
   "id": "1f564aef-78d9-4a79-ade8-eca01091d6c4",
   "metadata": {},
   "outputs": [],
   "source": [
    "memor_data = json.load(open(os.path.join(MEMOR_ROOT, \"data.json\")))"
   ]
  },
  {
   "cell_type": "code",
   "execution_count": 7,
   "id": "73094bc7-fb67-4995-9bc5-15d7ebb929a9",
   "metadata": {},
   "outputs": [],
   "source": [
    "for video_name in memor_data:\n",
    "    # make folder\n",
    "    save_folder = os.path.join(text_answer_folder, video_name)\n",
    "    if not os.path.exists(save_folder):\n",
    "        os.mkdir(save_folder)\n",
    "    \n",
    "    video_info = memor_data[video_name]\n",
    "    for idx in range(len(video_info[\"seg_ori_ind\"])):\n",
    "        text = video_info[\"sentences\"]\n",
    "        \n",
    "        # load json if exists\n",
    "        json_path = os.path.join(save_folder, str(idx) + \".json\")\n",
    "        if os.path.exists(json_path):\n",
    "            sentence_info = json.load(open(json_path, \"r\"))\n",
    "        else:\n",
    "            sentence_info = {\n",
    "                \"text\": text,\n",
    "                \"qa\":[],\n",
    "            }\n",
    "        \n",
    "        # answer questions\n",
    "        \n",
    "        \n",
    "\n",
    "    break"
   ]
  },
  {
   "cell_type": "code",
   "execution_count": 5,
   "id": "2a15c127-7110-482d-a75a-d1db60ee27fa",
   "metadata": {
    "tags": []
   },
   "outputs": [],
   "source": [
    "question_list = qm.question_collection.question_list\n",
    "answer_list = qm.question_collection.answer_list\n",
    "raw_answer_list = qm.question_collection.raw_answer_list"
   ]
  },
  {
   "cell_type": "code",
   "execution_count": 6,
   "id": "67189468-45f4-4014-b20d-8e08ede8dc0f",
   "metadata": {},
   "outputs": [],
   "source": [
    "text = \"I want to invite you to my house tonight!\""
   ]
  },
  {
   "cell_type": "code",
   "execution_count": 7,
   "id": "e6901039-36c2-4974-8b45-cbb9a860e65b",
   "metadata": {},
   "outputs": [
    {
     "name": "stdout",
     "output_type": "stream",
     "text": [
      "what is the sentiment of the text? I want to invite you to my house tonight! positive\n",
      "is the text informative? I want to invite you to my house tonight! yes\n",
      "is the text interesting? I want to invite you to my house tonight! yes\n",
      "do you feel any anger from the text? I want to invite you to my house tonight! no\n",
      "do you feel any joy from the text? I want to invite you to my house tonight! yes\n",
      "do you feel any worry from the text? I want to invite you to my house tonight! no\n",
      "do you feel any sadness from the text? I want to invite you to my house tonight! no\n",
      "is the writting style of the text formal or informal? I want to invite you to my house tonight! formal\n",
      "is the text narrative? I want to invite you to my house tonight! yes\n",
      "is the text analytical? I want to invite you to my house tonight! yes\n",
      "is the text expository? I want to invite you to my house tonight! yes\n",
      "is the text persuasive? I want to invite you to my house tonight! yes\n",
      "is the text argumentative? I want to invite you to my house tonight! yes\n",
      "is there any prediction in the text? I want to invite you to my house tonight! yes\n",
      "does it tell something happened in the past? I want to invite you to my house tonight! yes\n",
      "does it tell something happening currently? I want to invite you to my house tonight! yes\n",
      "is there any question or doubt in the text? I want to invite you to my house tonight! no\n",
      "is there any hypothesis or assumption in the text? I want to invite you to my house tonight! yes\n",
      "is there any statement or claim in the text? I want to invite you to my house tonight! yes\n",
      "is this an invitation? I want to invite you to my house tonight! yes\n"
     ]
    }
   ],
   "source": [
    "answer_choices = qm.predict_multi(text, question_list, answer_list, raw_answer_list)"
   ]
  },
  {
   "cell_type": "code",
   "execution_count": 11,
   "id": "f4f84946-a350-46dc-b485-370cb60f74d6",
   "metadata": {},
   "outputs": [
    {
     "data": {
      "text/plain": [
       "['positive',\n",
       " 'yes',\n",
       " 'yes',\n",
       " 'yes',\n",
       " 'yes',\n",
       " 'no',\n",
       " 'yes',\n",
       " 'formal',\n",
       " 'yes',\n",
       " 'yes',\n",
       " 'yes',\n",
       " 'yes',\n",
       " 'yes',\n",
       " 'no',\n",
       " 'yes',\n",
       " 'yes',\n",
       " 'yes',\n",
       " 'yes',\n",
       " 'yes',\n",
       " 'no']"
      ]
     },
     "execution_count": 11,
     "metadata": {},
     "output_type": "execute_result"
    }
   ],
   "source": [
    "answer_choices"
   ]
  },
  {
   "cell_type": "code",
   "execution_count": 12,
   "id": "6de62817-fadc-4d16-aeae-89d222fda018",
   "metadata": {},
   "outputs": [
    {
     "ename": "NameError",
     "evalue": "name 'pause' is not defined",
     "output_type": "error",
     "traceback": [
      "\u001b[0;31m---------------------------------------------------------------------------\u001b[0m",
      "\u001b[0;31mNameError\u001b[0m                                 Traceback (most recent call last)",
      "\u001b[0;32m/tmp/ipykernel_35690/1188747208.py\u001b[0m in \u001b[0;36m<module>\u001b[0;34m\u001b[0m\n\u001b[0;32m----> 1\u001b[0;31m \u001b[0mpause\u001b[0m\u001b[0;34m\u001b[0m\u001b[0;34m\u001b[0m\u001b[0m\n\u001b[0m",
      "\u001b[0;31mNameError\u001b[0m: name 'pause' is not defined"
     ]
    }
   ],
   "source": [
    "pause"
   ]
  },
  {
   "cell_type": "code",
   "execution_count": null,
   "id": "ecd88ac2-ff1c-40c8-a0f0-881cdebc7e73",
   "metadata": {},
   "outputs": [],
   "source": [
    "from parser.unifiedqa import *"
   ]
  },
  {
   "cell_type": "code",
   "execution_count": null,
   "id": "f7f911c2-43d6-4ff4-8f5a-e7407656f4fb",
   "metadata": {},
   "outputs": [],
   "source": [
    "batch_sentences = []\n",
    "for question, answer in zip(question_list, answer_list):\n",
    "    qa_text = generate_unifiedqa_text(question, answer, text)\n",
    "    batch_sentences.append(qa_text)"
   ]
  },
  {
   "cell_type": "code",
   "execution_count": null,
   "id": "024cfd64-1ada-4637-9d79-f2a7626c3276",
   "metadata": {},
   "outputs": [],
   "source": [
    "batch_sentences"
   ]
  },
  {
   "cell_type": "code",
   "execution_count": null,
   "id": "685fefdd-a2a2-4770-a71d-c2f4a2c5e0f8",
   "metadata": {},
   "outputs": [],
   "source": [
    "question_answers = qm.run_model(batch_sentences)"
   ]
  },
  {
   "cell_type": "code",
   "execution_count": null,
   "id": "a1856100-e343-47b2-9ca2-ad6201aead8d",
   "metadata": {},
   "outputs": [],
   "source": [
    "question_answers"
   ]
  },
  {
   "cell_type": "code",
   "execution_count": null,
   "id": "578a8944-bc53-4fe0-8d9c-9fb7b59b91a2",
   "metadata": {},
   "outputs": [],
   "source": [
    "for question, qa, raw_answer in zip(question_list, question_answers, raw_answer_list):\n",
    "    answer_choice = process.extractOne(qa, raw_answer)[0]\n",
    "    # answer_index = self.question_collection.raw_answer_list[question_id].index(answer_choice)\n",
    "    print(question, text, answer_choice)"
   ]
  },
  {
   "cell_type": "code",
   "execution_count": null,
   "id": "99d722d2-08c8-47d7-930d-065285aa1981",
   "metadata": {},
   "outputs": [],
   "source": []
  }
 ],
 "metadata": {
  "kernelspec": {
   "display_name": "mm",
   "language": "python",
   "name": "mm"
  },
  "language_info": {
   "codemirror_mode": {
    "name": "ipython",
    "version": 3
   },
   "file_extension": ".py",
   "mimetype": "text/x-python",
   "name": "python",
   "nbconvert_exporter": "python",
   "pygments_lexer": "ipython3",
   "version": "3.7.11"
  }
 },
 "nbformat": 4,
 "nbformat_minor": 5
}
