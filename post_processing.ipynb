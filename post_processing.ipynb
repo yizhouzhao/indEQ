{
 "cells": [
  {
   "cell_type": "markdown",
   "metadata": {},
   "source": [
    "# Video"
   ]
  },
  {
   "cell_type": "code",
   "execution_count": 3,
   "metadata": {},
   "outputs": [],
   "source": [
    "import os\n",
    "import pandas as pd\n",
    "import json"
   ]
  },
  {
   "cell_type": "code",
   "execution_count": 2,
   "metadata": {},
   "outputs": [],
   "source": [
    "PARSED_DATA_ROOT = './parsed_data/'\n",
    "\n",
    "# save path\n",
    "video_answer_folder = os.path.join(PARSED_DATA_ROOT,\"memor_video_answers\")"
   ]
  },
  {
   "cell_type": "code",
   "execution_count": 3,
   "metadata": {},
   "outputs": [],
   "source": [
    "from parser.post_parser import VideoCausalityParser\n",
    "vcp = VideoCausalityParser()"
   ]
  },
  {
   "cell_type": "code",
   "execution_count": 4,
   "metadata": {},
   "outputs": [
    {
     "data": {
      "application/vnd.jupyter.widget-view+json": {
       "model_id": "f892bab83eac47ffb5221899404a1b0b",
       "version_major": 2,
       "version_minor": 0
      },
      "text/plain": [
       "HBox(children=(FloatProgress(value=0.0, max=5502.0), HTML(value='')))"
      ]
     },
     "metadata": {},
     "output_type": "display_data"
    },
    {
     "name": "stdout",
     "output_type": "stream",
     "text": [
      "\n"
     ]
    }
   ],
   "source": [
    "from tqdm.auto import tqdm\n",
    "for clip in tqdm(sorted(os.listdir(video_answer_folder))):\n",
    "    for json_file in sorted(os.listdir(os.path.join(video_answer_folder, clip))):\n",
    "        answer_path = os.path.join(video_answer_folder, clip, json_file)\n",
    "        if \".ipynb_checkpoints\" in answer_path:\n",
    "            continue\n",
    "        video_answer = json.load(open(answer_path))\n",
    "        \n",
    "        vcp.parse_video_answer(video_answer)\n",
    "        with open(answer_path, 'w') as outfile:\n",
    "            json.dump(video_answer, outfile, indent=4)\n",
    "\n",
    "        # break\n",
    "    # break"
   ]
  },
  {
   "cell_type": "markdown",
   "metadata": {},
   "source": [
    "# Text"
   ]
  },
  {
   "cell_type": "code",
   "execution_count": 8,
   "metadata": {},
   "outputs": [],
   "source": [
    "import os\n",
    "import pandas as pd\n",
    "import json\n",
    "\n",
    "from param import TEXTQUESTION_CSV_PATH"
   ]
  },
  {
   "cell_type": "code",
   "execution_count": 16,
   "metadata": {},
   "outputs": [],
   "source": [
    "PARSED_DATA_ROOT = './parsed_data/'\n",
    "\n",
    "# save path\n",
    "text_answer_folder = os.path.join(PARSED_DATA_ROOT,\"memor_text_answers\")"
   ]
  },
  {
   "cell_type": "code",
   "execution_count": 9,
   "metadata": {},
   "outputs": [],
   "source": [
    "# df = pd.read_csv(TEXTQUESTION_CSV_PATH)"
   ]
  },
  {
   "cell_type": "code",
   "execution_count": 10,
   "metadata": {},
   "outputs": [],
   "source": [
    "from parser.post_parser import TextRuleParser"
   ]
  },
  {
   "cell_type": "code",
   "execution_count": 11,
   "metadata": {},
   "outputs": [],
   "source": [
    "trp = TextRuleParser(TEXTQUESTION_CSV_PATH)"
   ]
  },
  {
   "cell_type": "code",
   "execution_count": 17,
   "metadata": {},
   "outputs": [
    {
     "data": {
      "application/vnd.jupyter.widget-view+json": {
       "model_id": "92761ddc601044dab848bcda754a41fa",
       "version_major": 2,
       "version_minor": 0
      },
      "text/plain": [
       "HBox(children=(FloatProgress(value=0.0, max=5502.0), HTML(value='')))"
      ]
     },
     "metadata": {},
     "output_type": "display_data"
    },
    {
     "name": "stdout",
     "output_type": "stream",
     "text": [
      "./parsed_data/memor_text_answers/S01E01_000/0.json\n",
      "\n"
     ]
    }
   ],
   "source": [
    "from tqdm.auto import tqdm\n",
    "for clip in tqdm(sorted(os.listdir(text_answer_folder))):\n",
    "    for json_file in sorted(os.listdir(os.path.join(text_answer_folder, clip))):\n",
    "        answer_path = os.path.join(text_answer_folder, clip, json_file)\n",
    "        if \".ipynb_checkpoints\" in answer_path:\n",
    "            continue\n",
    "        text_answer = json.load(open(answer_path))\n",
    "        trp.parse_text_answer(text_answer)\n",
    "        with open(answer_path, 'w') as outfile:\n",
    "            json.dump(text_answer, outfile, indent=4)\n",
    "            \n",
    "        break\n",
    "    break\n"
   ]
  },
  {
   "cell_type": "code",
   "execution_count": 15,
   "metadata": {},
   "outputs": [
    {
     "data": {
      "text/plain": [
       "[0, 0, 0, 0, 0, 0, 0, 0, 0, 0, 0, 0, 0, 0, 0, 0, 0, 0, 0, 0, 0, 0, 0]"
      ]
     },
     "execution_count": 15,
     "metadata": {},
     "output_type": "execute_result"
    }
   ],
   "source": [
    "tt['answer_vec']"
   ]
  },
  {
   "cell_type": "code",
   "execution_count": null,
   "metadata": {},
   "outputs": [],
   "source": []
  }
 ],
 "metadata": {
  "kernelspec": {
   "display_name": "mm",
   "language": "python",
   "name": "mm"
  },
  "language_info": {
   "codemirror_mode": {
    "name": "ipython",
    "version": 3
   },
   "file_extension": ".py",
   "mimetype": "text/x-python",
   "name": "python",
   "nbconvert_exporter": "python",
   "pygments_lexer": "ipython3",
   "version": "3.7.11"
  }
 },
 "nbformat": 4,
 "nbformat_minor": 5
}
